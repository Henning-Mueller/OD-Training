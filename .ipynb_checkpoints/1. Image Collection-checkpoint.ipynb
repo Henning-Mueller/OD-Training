{
 "cells": [
  {
   "cell_type": "markdown",
   "metadata": {},
   "source": [
    "# 1. Import Dependencies"
   ]
  },
  {
   "cell_type": "code",
   "execution_count": 2,
   "metadata": {},
   "outputs": [
    {
     "name": "stdout",
     "output_type": "stream",
     "text": [
      "Requirement already satisfied: opencv-python in e:\\tensorflow object detection\\tfodcourse\\bachelor\\lib\\site-packages (4.6.0.66)\n",
      "Requirement already satisfied: numpy>=1.17.3 in e:\\tensorflow object detection\\tfodcourse\\bachelor\\lib\\site-packages (from opencv-python) (1.23.1)\n"
     ]
    },
    {
     "name": "stderr",
     "output_type": "stream",
     "text": [
      "WARNING: Ignoring invalid distribution -rotobuf (e:\\tensorflow object detection\\tfodcourse\\bachelor\\lib\\site-packages)\n",
      "WARNING: Ignoring invalid distribution -rotobuf (e:\\tensorflow object detection\\tfodcourse\\bachelor\\lib\\site-packages)\n",
      "WARNING: Ignoring invalid distribution -rotobuf (e:\\tensorflow object detection\\tfodcourse\\bachelor\\lib\\site-packages)\n",
      "WARNING: Ignoring invalid distribution -rotobuf (e:\\tensorflow object detection\\tfodcourse\\bachelor\\lib\\site-packages)\n",
      "WARNING: Ignoring invalid distribution -rotobuf (e:\\tensorflow object detection\\tfodcourse\\bachelor\\lib\\site-packages)\n",
      "WARNING: Ignoring invalid distribution -rotobuf (e:\\tensorflow object detection\\tfodcourse\\bachelor\\lib\\site-packages)\n"
     ]
    }
   ],
   "source": [
    "!pip install opencv-python"
   ]
  },
  {
   "cell_type": "code",
   "execution_count": 3,
   "metadata": {},
   "outputs": [],
   "source": [
    "# Import opencv\n",
    "import cv2 \n",
    "\n",
    "# Import uuid\n",
    "import uuid\n",
    "\n",
    "# Import Operating System\n",
    "import os\n",
    "\n",
    "# Import time\n",
    "import time"
   ]
  },
  {
   "cell_type": "markdown",
   "metadata": {},
   "source": [
    "# 2. Define Images to Collect"
   ]
  },
  {
   "cell_type": "code",
   "execution_count": 4,
   "metadata": {},
   "outputs": [],
   "source": [
    "labels = ['True', 'False']\n",
    "number_imgs = 5"
   ]
  },
  {
   "cell_type": "markdown",
   "metadata": {},
   "source": [
    "# 3. Setup Folders "
   ]
  },
  {
   "cell_type": "code",
   "execution_count": 5,
   "metadata": {},
   "outputs": [],
   "source": [
    "IMAGES_PATH = os.path.join('Tensorflow', 'workspace', 'images', 'collectedimages')"
   ]
  },
  {
   "cell_type": "code",
   "execution_count": 6,
   "metadata": {},
   "outputs": [],
   "source": [
    "if not os.path.exists(IMAGES_PATH):\n",
    "    if os.name == 'posix':\n",
    "        !mkdir -p {IMAGES_PATH}\n",
    "    if os.name == 'nt':\n",
    "         !mkdir {IMAGES_PATH}\n",
    "for label in labels:\n",
    "    path = os.path.join(IMAGES_PATH, label)\n",
    "    if not os.path.exists(path):\n",
    "        !mkdir {path}"
   ]
  },
  {
   "cell_type": "markdown",
   "metadata": {},
   "source": [
    "# 4. Capture Images"
   ]
  },
  {
   "cell_type": "code",
   "execution_count": 18,
   "metadata": {},
   "outputs": [
    {
     "name": "stdout",
     "output_type": "stream",
     "text": [
      "Collecting images for thumbsup\n",
      "Collecting image 0\n",
      "Collecting image 1\n",
      "Collecting image 2\n",
      "Collecting image 3\n",
      "Collecting image 4\n"
     ]
    }
   ],
   "source": [
    "for label in labels:\n",
    "    cap = cv2.VideoCapture(0)\n",
    "    print('Collecting images for {}'.format(label))\n",
    "    time.sleep(5)\n",
    "    for imgnum in range(number_imgs):\n",
    "        print('Collecting image {}'.format(imgnum))\n",
    "        ret, frame = cap.read()\n",
    "        imgname = os.path.join(IMAGES_PATH,label,label+'.'+'{}.jpg'.format(str(uuid.uuid1())))\n",
    "        cv2.imwrite(imgname, frame)\n",
    "        cv2.imshow('frame', frame)\n",
    "        time.sleep(2)\n",
    "\n",
    "        if cv2.waitKey(1) & 0xFF == ord('q'):\n",
    "            break\n",
    "cap.release()\n",
    "cv2.destroyAllWindows()"
   ]
  },
  {
   "cell_type": "markdown",
   "metadata": {},
   "source": [
    "# 5. Image Labelling"
   ]
  },
  {
   "cell_type": "code",
   "execution_count": 7,
   "metadata": {},
   "outputs": [
    {
     "name": "stdout",
     "output_type": "stream",
     "text": [
      "Requirement already satisfied: pyqt5 in e:\\tensorflow object detection\\tfodcourse\\bachelor\\lib\\site-packages (5.15.7)\n",
      "Requirement already satisfied: lxml in e:\\tensorflow object detection\\tfodcourse\\bachelor\\lib\\site-packages (4.9.1)\n",
      "Requirement already satisfied: PyQt5-sip<13,>=12.11 in e:\\tensorflow object detection\\tfodcourse\\bachelor\\lib\\site-packages (from pyqt5) (12.11.0)\n",
      "Requirement already satisfied: PyQt5-Qt5>=5.15.0 in e:\\tensorflow object detection\\tfodcourse\\bachelor\\lib\\site-packages (from pyqt5) (5.15.2)\n"
     ]
    },
    {
     "name": "stderr",
     "output_type": "stream",
     "text": [
      "WARNING: Ignoring invalid distribution -rotobuf (e:\\tensorflow object detection\\tfodcourse\\bachelor\\lib\\site-packages)\n",
      "WARNING: Ignoring invalid distribution -rotobuf (e:\\tensorflow object detection\\tfodcourse\\bachelor\\lib\\site-packages)\n",
      "WARNING: Ignoring invalid distribution -rotobuf (e:\\tensorflow object detection\\tfodcourse\\bachelor\\lib\\site-packages)\n",
      "WARNING: Ignoring invalid distribution -rotobuf (e:\\tensorflow object detection\\tfodcourse\\bachelor\\lib\\site-packages)\n",
      "WARNING: Ignoring invalid distribution -rotobuf (e:\\tensorflow object detection\\tfodcourse\\bachelor\\lib\\site-packages)\n",
      "WARNING: Ignoring invalid distribution -rotobuf (e:\\tensorflow object detection\\tfodcourse\\bachelor\\lib\\site-packages)\n"
     ]
    }
   ],
   "source": [
    "!pip install --upgrade pyqt5 lxml"
   ]
  },
  {
   "cell_type": "code",
   "execution_count": 8,
   "metadata": {},
   "outputs": [],
   "source": [
    "LABELIMG_PATH = os.path.join('Tensorflow', 'labelimg')"
   ]
  },
  {
   "cell_type": "code",
   "execution_count": 9,
   "metadata": {},
   "outputs": [],
   "source": [
    "if not os.path.exists(LABELIMG_PATH):\n",
    "    !mkdir {LABELIMG_PATH}\n",
    "    !git clone https://github.com/tzutalin/labelImg {LABELIMG_PATH}"
   ]
  },
  {
   "cell_type": "code",
   "execution_count": 10,
   "metadata": {},
   "outputs": [],
   "source": [
    "if os.name == 'posix':\n",
    "    !make qt5py3\n",
    "if os.name =='nt':\n",
    "    !cd {LABELIMG_PATH} && pyrcc5 -o libs/resources.py resources.qrc"
   ]
  },
  {
   "cell_type": "code",
   "execution_count": 19,
   "metadata": {},
   "outputs": [],
   "source": [
    "!cd {LABELIMG_PATH} && python labelImg.py"
   ]
  },
  {
   "cell_type": "markdown",
   "metadata": {},
   "source": [
    "# 6. Move them into a Training and Testing Partition"
   ]
  },
  {
   "cell_type": "markdown",
   "metadata": {},
   "source": [
    "# OPTIONAL - 7. Compress them for Colab Training"
   ]
  },
  {
   "cell_type": "code",
   "execution_count": 20,
   "metadata": {},
   "outputs": [],
   "source": [
    "TRAIN_PATH = os.path.join('Tensorflow', 'workspace', 'images', 'train')\n",
    "TEST_PATH = os.path.join('Tensorflow', 'workspace', 'images', 'test')\n",
    "ARCHIVE_PATH = os.path.join('Tensorflow', 'workspace', 'images', 'archive.tar.gz')"
   ]
  },
  {
   "cell_type": "code",
   "execution_count": 21,
   "metadata": {},
   "outputs": [],
   "source": [
    "!tar -czf {ARCHIVE_PATH} {TRAIN_PATH} {TEST_PATH}"
   ]
  },
  {
   "cell_type": "code",
   "execution_count": 17,
   "metadata": {},
   "outputs": [
    {
     "name": "stdout",
     "output_type": "stream",
     "text": [
      "Package                       Version     Editable project location\n",
      "----------------------------- ----------- -------------------------------------------------------------------------\n",
      "absl-py                       1.2.0\n",
      "apache-beam                   2.40.0\n",
      "argon2-cffi                   21.3.0\n",
      "argon2-cffi-bindings          21.2.0\n",
      "asttokens                     2.0.7\n",
      "astunparse                    1.6.3\n",
      "attrs                         22.1.0\n",
      "avro-python3                  1.10.2\n",
      "backcall                      0.2.0\n",
      "beautifulsoup4                4.11.1\n",
      "bleach                        5.0.1\n",
      "cachetools                    5.2.0\n",
      "certifi                       2022.6.15\n",
      "cffi                          1.15.1\n",
      "charset-normalizer            2.1.0\n",
      "cloudpickle                   2.1.0\n",
      "colorama                      0.4.5\n",
      "contextlib2                   21.6.0\n",
      "crcmod                        1.7\n",
      "cycler                        0.11.0\n",
      "Cython                        0.29.32\n",
      "debugpy                       1.6.2\n",
      "decorator                     5.1.1\n",
      "defusedxml                    0.7.1\n",
      "dill                          0.3.1.1\n",
      "dm-tree                       0.1.7\n",
      "docopt                        0.6.2\n",
      "entrypoints                   0.4\n",
      "etils                         0.7.1\n",
      "executing                     0.9.1\n",
      "fastavro                      1.5.4\n",
      "fastjsonschema                2.16.1\n",
      "flatbuffers                   1.12\n",
      "gast                          0.3.3\n",
      "gin-config                    0.5.0\n",
      "google-api-core               2.8.2\n",
      "google-api-python-client      2.56.0\n",
      "google-auth                   2.10.0\n",
      "google-auth-httplib2          0.1.0\n",
      "google-auth-oauthlib          0.4.6\n",
      "google-pasta                  0.2.0\n",
      "googleapis-common-protos      1.56.4\n",
      "grpcio                        1.47.0\n",
      "h5py                          2.10.0\n",
      "hdfs                          2.7.0\n",
      "httplib2                      0.20.4\n",
      "idna                          3.3\n",
      "importlib-metadata            4.12.0\n",
      "importlib-resources           5.9.0\n",
      "ipykernel                     6.15.1\n",
      "ipython                       8.4.0\n",
      "ipython-genutils              0.2.0\n",
      "ipywidgets                    7.7.1\n",
      "jedi                          0.18.1\n",
      "Jinja2                        3.1.2\n",
      "joblib                        1.1.0\n",
      "jsonschema                    4.9.1\n",
      "jupyter                       1.0.0\n",
      "jupyter-client                7.3.4\n",
      "jupyter-console               6.4.4\n",
      "jupyter-core                  4.11.1\n",
      "jupyterlab-pygments           0.2.2\n",
      "jupyterlab-widgets            1.1.1\n",
      "kaggle                        1.5.12\n",
      "keras                         2.7.0\n",
      "Keras-Preprocessing           1.1.2\n",
      "kiwisolver                    1.4.4\n",
      "libclang                      14.0.6\n",
      "lvis                          0.5.3\n",
      "lxml                          4.9.1\n",
      "Markdown                      3.4.1\n",
      "MarkupSafe                    2.1.1\n",
      "matplotlib                    3.2.0\n",
      "matplotlib-inline             0.1.3\n",
      "mistune                       0.8.4\n",
      "nbclient                      0.6.6\n",
      "nbconvert                     6.5.3\n",
      "nbformat                      5.4.0\n",
      "nest-asyncio                  1.5.5\n",
      "notebook                      6.4.12\n",
      "numpy                         1.23.1\n",
      "oauth2client                  4.1.3\n",
      "oauthlib                      3.2.0\n",
      "object-detection              0.1\n",
      "opencv-python                 4.6.0.66\n",
      "opencv-python-headless        4.6.0.66\n",
      "opt-einsum                    3.3.0\n",
      "orjson                        3.7.11\n",
      "packaging                     21.3\n",
      "pandas                        1.4.3\n",
      "pandocfilters                 1.5.0\n",
      "parso                         0.8.3\n",
      "pickleshare                   0.7.5\n",
      "Pillow                        9.2.0\n",
      "pip                           22.2.2\n",
      "pkgutil_resolve_name          1.3.10\n",
      "portalocker                   2.5.1\n",
      "prometheus-client             0.14.1\n",
      "promise                       2.3\n",
      "prompt-toolkit                3.0.30\n",
      "proto-plus                    1.22.0\n",
      "protobuf                      3.19.0\n",
      "psutil                        5.9.1\n",
      "pure-eval                     0.2.2\n",
      "py-cpuinfo                    8.0.0\n",
      "pyarrow                       7.0.0\n",
      "pyasn1                        0.4.8\n",
      "pyasn1-modules                0.2.8\n",
      "pycocotools                   2.0.4\n",
      "pycparser                     2.21\n",
      "pydot                         1.4.2\n",
      "Pygments                      2.12.0\n",
      "pymongo                       3.12.3\n",
      "pyparsing                     2.4.7\n",
      "PyQt5                         5.15.7\n",
      "PyQt5-Qt5                     5.15.2\n",
      "PyQt5-sip                     12.11.0\n",
      "pyrsistent                    0.18.1\n",
      "python-dateutil               2.8.2\n",
      "python-slugify                6.1.2\n",
      "pytz                          2022.2.1\n",
      "pywin32                       304\n",
      "pywinpty                      2.0.7\n",
      "PyYAML                        5.4.1\n",
      "pyzmq                         23.2.1\n",
      "qtconsole                     5.3.1\n",
      "QtPy                          2.2.0\n",
      "regex                         2022.7.25\n",
      "requests                      2.28.1\n",
      "requests-oauthlib             1.3.1\n",
      "rsa                           4.9\n",
      "sacrebleu                     2.2.0\n",
      "scikit-learn                  1.1.2\n",
      "scipy                         1.9.0\n",
      "Send2Trash                    1.8.0\n",
      "sentencepiece                 0.1.97\n",
      "seqeval                       1.2.2\n",
      "setuptools                    41.2.0\n",
      "six                           1.15.0\n",
      "slim                          0.1         e:\\tensorflow object detection\\tfodcourse\\tensorflow\\models\\research\\slim\n",
      "soupsieve                     2.3.2.post1\n",
      "stack-data                    0.3.0\n",
      "tabulate                      0.8.10\n",
      "tensorboard                   2.9.1\n",
      "tensorboard-data-server       0.6.1\n",
      "tensorboard-plugin-wit        1.8.1\n",
      "tensorflow                    2.7.0\n",
      "tensorflow-addons             0.17.1\n",
      "tensorflow-datasets           4.6.0\n",
      "tensorflow-estimator          2.7.0\n",
      "tensorflow-hub                0.12.0\n",
      "tensorflow-io                 0.26.0\n",
      "tensorflow-io-gcs-filesystem  0.26.0\n",
      "tensorflow-metadata           1.9.0\n",
      "tensorflow-model-optimization 0.7.3\n",
      "termcolor                     1.1.0\n",
      "terminado                     0.15.0\n",
      "text-unidecode                1.3\n",
      "tf-models-official            2.5.1\n",
      "tf-slim                       1.1.0\n",
      "threadpoolctl                 3.1.0\n",
      "tinycss2                      1.1.1\n",
      "toml                          0.10.2\n",
      "tornado                       6.2\n",
      "tqdm                          4.64.0\n",
      "traitlets                     5.3.0\n",
      "typeguard                     2.13.3\n",
      "typing-extensions             3.7.4.3\n",
      "uritemplate                   4.1.1\n",
      "urllib3                       1.26.11\n",
      "wcwidth                       0.2.5\n",
      "webencodings                  0.5.1\n",
      "Werkzeug                      2.2.2\n",
      "wget                          3.2\n",
      "wheel                         0.37.1\n",
      "widgetsnbextension            3.6.1\n",
      "wrapt                         1.12.1\n",
      "zipp                          3.8.1\n"
     ]
    },
    {
     "name": "stderr",
     "output_type": "stream",
     "text": [
      "WARNING: Ignoring invalid distribution -rotobuf (e:\\tensorflow object detection\\tfodcourse\\bachelor\\lib\\site-packages)\n",
      "WARNING: Ignoring invalid distribution -rotobuf (e:\\tensorflow object detection\\tfodcourse\\bachelor\\lib\\site-packages)\n",
      "WARNING: Ignoring invalid distribution -rotobuf (e:\\tensorflow object detection\\tfodcourse\\bachelor\\lib\\site-packages)\n",
      "WARNING: Ignoring invalid distribution -rotobuf (e:\\tensorflow object detection\\tfodcourse\\bachelor\\lib\\site-packages)\n"
     ]
    }
   ],
   "source": [
    "!pip list\n"
   ]
  },
  {
   "cell_type": "code",
   "execution_count": null,
   "metadata": {},
   "outputs": [],
   "source": []
  }
 ],
 "metadata": {
  "kernelspec": {
   "display_name": "Bachelor",
   "language": "python",
   "name": "bachelor"
  },
  "language_info": {
   "codemirror_mode": {
    "name": "ipython",
    "version": 3
   },
   "file_extension": ".py",
   "mimetype": "text/x-python",
   "name": "python",
   "nbconvert_exporter": "python",
   "pygments_lexer": "ipython3",
   "version": "3.8.2"
  }
 },
 "nbformat": 4,
 "nbformat_minor": 2
}
